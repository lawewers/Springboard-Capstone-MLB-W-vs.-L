{
 "cells": [
  {
   "cell_type": "markdown",
   "metadata": {},
   "source": [
    "# Capstone Project Proposal\n",
    "\n",
    "## Problem\n",
    "For my capstone project, I will find statistical relationships between baseball statistics and team wins. Next, using this knowledge, determine how effectively teams are spending their money on offense and defense. For teams that were below average in the past couple of years, I will be able to provide advice on how and where to spend their money when it comes to signing or moving players. \n",
    "\n",
    "## Client\n",
    "My client would be any professional baseball team willing to accept my analysis.\n",
    "\n",
    "## Data\n",
    "For this project, I will use Sean Lahman’s history of baseball database. This database contains all seasonal data for every professional baseball player from 1871 to 2015. The database can be downloaded off the internet. \n",
    "\n",
    "## Outline\n",
    "1.\tLoad data into jupyter notebook\n",
    "2.\tCalculate all necessary statistics with data\n",
    "3.\tFind statistical relationships between calculated statistics and team wins in a season (162 games)\n",
    "4.\tCreate visualizations showing relationships\n",
    "5.\tIdentify which players have the best statistical relationship with increasing wins and how much each team spends on those players\n",
    "6.\tProvide suggestions for lower tier teams on how to better spend money.\n",
    "\n",
    "## Deliverables\n",
    "The deliverables will be to identify which statistics impact wins for a professional baseball team, along with a financial analysis for each team.\n",
    "\n",
    "\n"
   ]
  }
 ],
 "metadata": {
  "kernelspec": {
   "display_name": "Python 3",
   "language": "python",
   "name": "python3"
  },
  "language_info": {
   "codemirror_mode": {
    "name": "ipython",
    "version": 3
   },
   "file_extension": ".py",
   "mimetype": "text/x-python",
   "name": "python",
   "nbconvert_exporter": "python",
   "pygments_lexer": "ipython3",
   "version": "3.6.1"
  }
 },
 "nbformat": 4,
 "nbformat_minor": 2
}
